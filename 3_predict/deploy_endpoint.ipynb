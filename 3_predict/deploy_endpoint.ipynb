{
 "cells": [
  {
   "cell_type": "markdown",
   "metadata": {},
   "source": [
    "# Deploy your model on a SageMaker Endpoint and visualize predictions"
   ]
  },
  {
   "cell_type": "markdown",
   "metadata": {},
   "source": [
    "## Setup environment"
   ]
  },
  {
   "cell_type": "code",
   "execution_count": null,
   "metadata": {},
   "outputs": [],
   "source": [
    "import cv2\n",
    "import sagemaker\n",
    "import numpy as np\n",
    "import matplotlib.pyplot as plt\n",
    "from sagemaker import get_execution_role\n",
    "from sagemaker.utils import name_from_base\n",
    "from sagemaker.tensorflow.serving import Model\n",
    "import visualization_utils as viz_utils\n",
    "\n",
    "role = sagemaker.get_execution_role()\n",
    "model_artefact = 'https://tf2-object-detection.s3-eu-west-1.amazonaws.com/model/model.tar.gz'"
   ]
  },
  {
   "cell_type": "markdown",
   "metadata": {},
   "source": [
    "## Create endpoint"
   ]
  },
  {
   "cell_type": "code",
   "execution_count": null,
   "metadata": {},
   "outputs": [],
   "source": [
    "model = Model(model_data=model_artefact,\n",
    "              name=name_from_base('tf2-object-detection'),\n",
    "              role=role,\n",
    "              framework_version='2.2')"
   ]
  },
  {
   "cell_type": "code",
   "execution_count": null,
   "metadata": {},
   "outputs": [],
   "source": [
    "predictor = model.deploy(initial_instance_count=1, instance_type='ml.g4dn.xlarge')"
   ]
  },
  {
   "cell_type": "markdown",
   "metadata": {},
   "source": [
    "## Predict"
   ]
  },
  {
   "cell_type": "code",
   "execution_count": null,
   "metadata": {},
   "outputs": [],
   "source": [
    "def image_file_to_tensor(path):\n",
    "    cv_img = cv2.imread(path,1).astype('uint8')\n",
    "    cv_img = cv2.cvtColor(cv_img, cv2.COLOR_BGR2RGB)\n",
    "    return cv_img"
   ]
  },
  {
   "cell_type": "code",
   "execution_count": null,
   "metadata": {},
   "outputs": [],
   "source": [
    "img = image_file_to_tensor('test_images/1.jpg')\n",
    "\n",
    "input = {\n",
    "  'instances': [img.tolist()]\n",
    "}\n",
    "\n",
    "detections = predictor.predict(input)['predictions'][0]\n",
    "\n",
    "img_with_detections = img.copy()\n",
    "category_index = {1:{'id': 1, 'name': 'Right Lung'}, 2:{'id': 2, 'name': 'Left Lung'}}\n",
    "detection_boxes = np.array(detections['detection_boxes'])\n",
    "detection_classes = [int(x) for x in detections['detection_classes']]\n",
    "detection_scores = detections['detection_scores']"
   ]
  },
  {
   "cell_type": "code",
   "execution_count": null,
   "metadata": {},
   "outputs": [],
   "source": [
    "%matplotlib inline\n",
    "\n",
    "viz_utils.visualize_boxes_and_labels_on_image_array(\n",
    "    img_with_detections,\n",
    "    detection_boxes,\n",
    "    detection_classes,\n",
    "    detection_scores,\n",
    "    category_index,\n",
    "    use_normalized_coordinates=True,\n",
    "    max_boxes_to_draw=100,\n",
    "    min_score_thresh=0.60,\n",
    "    agnostic_mode=False)\n",
    "\n",
    "plt.figure(figsize=(10,10))\n",
    "plt.imshow(img_with_detections)\n",
    "plt.show()"
   ]
  },
  {
   "cell_type": "markdown",
   "metadata": {},
   "source": [
    "## Delete endpoint"
   ]
  },
  {
   "cell_type": "code",
   "execution_count": null,
   "metadata": {},
   "outputs": [],
   "source": [
    "sagemaker.Session().delete_endpoint(predictor.endpoint)"
   ]
  }
 ],
 "metadata": {
  "kernelspec": {
   "display_name": "conda_tensorflow_p36",
   "language": "python",
   "name": "conda_tensorflow_p36"
  },
  "language_info": {
   "codemirror_mode": {
    "name": "ipython",
    "version": 3
   },
   "file_extension": ".py",
   "mimetype": "text/x-python",
   "name": "python",
   "nbconvert_exporter": "python",
   "pygments_lexer": "ipython3",
   "version": "3.6.10"
  }
 },
 "nbformat": 4,
 "nbformat_minor": 4
}
